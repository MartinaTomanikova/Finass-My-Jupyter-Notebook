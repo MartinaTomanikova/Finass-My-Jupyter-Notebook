{
  "metadata": {
    "kernelspec": {
      "name": "python",
      "display_name": "Pyolite",
      "language": "python"
    },
    "language_info": {
      "codemirror_mode": {
        "name": "python",
        "version": 3
      },
      "file_extension": ".py",
      "mimetype": "text/x-python",
      "name": "python",
      "nbconvert_exporter": "python",
      "pygments_lexer": "ipython3",
      "version": "3.8"
    }
  },
  "nbformat_minor": 4,
  "nbformat": 4,
  "cells": [
    {
      "cell_type": "markdown",
      "source": "<center>\n    <img src=\"https://cf-courses-data.s3.us.cloud-object-storage.appdomain.cloud/IBMDeveloperSkillsNetwork-DS0105EN-SkillsNetwork/labs/Module2/images/SN_web_lightmode.png\" width=\"300\" alt=\"cognitiveclass.ai logo\">\n</center>\n",
      "metadata": {}
    },
    {
      "cell_type": "markdown",
      "source": "#### Add your code below following the instructions given in the course\n",
      "metadata": {}
    },
    {
      "cell_type": "markdown",
      "source": "<h1> My Jupyter Notebook on IBM Watson Studio </h1>",
      "metadata": {}
    },
    {
      "cell_type": "markdown",
      "source": "<b> Martina Tomaníková </b>\n\ndata scientist",
      "metadata": {}
    },
    {
      "cell_type": "markdown",
      "source": "<i> I am interested in data science because it is extremely useful and state-of-the-art science field, helping us understand and utilize data for shaping better future. </i>",
      "metadata": {}
    },
    {
      "cell_type": "markdown",
      "source": "Data science languages\n<ul>\n  <li>Python</li>\n  <li>Java</li>\n  <li>R</li>\n  <li>SQL</li>\n</ul>",
      "metadata": {}
    },
    {
      "cell_type": "markdown",
      "source": "Data science libraries\n<ul>\n  <li>TensorFlow</li>\n  <li>Pandas</li>\n  <li>Keras</li>\n  <li>PyTorch</li>\n</ul>\n",
      "metadata": {}
    },
    {
      "cell_type": "markdown",
      "source": "Data science tools table\n\n|Open source|Commercial|Cloud based|\n|-----------|----------|-----------|\n|CouchDB|Oracle|Watson studio|\n|Cassandra|SQL server|Watson OpenScale|\n|MySQL|IBM DB2|Azure Machine learning|",
      "metadata": {}
    },
    {
      "cell_type": "markdown",
      "source": "<h3> This code will multiply numbers 3 and 5 </h3>",
      "metadata": {}
    },
    {
      "cell_type": "code",
      "source": "3*5",
      "metadata": {
        "trusted": true
      },
      "execution_count": 11,
      "outputs": [
        {
          "execution_count": 11,
          "output_type": "execute_result",
          "data": {
            "text/plain": "15"
          },
          "metadata": {}
        }
      ]
    },
    {
      "cell_type": "markdown",
      "source": "Minutes to hours",
      "metadata": {}
    },
    {
      "cell_type": "code",
      "source": "total_minutes = 130\n\n# Get hours with floor division\nhours = total_minutes // 60\n\n# Get additional minutes with modulus\nminutes = total_minutes % 60\n\n# Create time as a string\ntime = \"{}:{}\".format(hours, minutes)\n\nprint(time)",
      "metadata": {
        "trusted": true
      },
      "execution_count": 32,
      "outputs": [
        {
          "name": "stdout",
          "text": "2:10\n",
          "output_type": "stream"
        }
      ]
    },
    {
      "cell_type": "markdown",
      "source": "Unordered list",
      "metadata": {}
    },
    {
      "cell_type": "markdown",
      "source": "<ul>\n  <li>Car</li>\n  <li>Ship</li>\n  <li>Train</li>\n</ul>\n\n",
      "metadata": {}
    }
  ]
}