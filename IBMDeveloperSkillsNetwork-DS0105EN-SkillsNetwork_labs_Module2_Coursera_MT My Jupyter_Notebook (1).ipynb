{
  "metadata": {
    "kernelspec": {
      "name": "python",
      "display_name": "Pyolite",
      "language": "python"
    },
    "language_info": {
      "codemirror_mode": {
        "name": "python",
        "version": 3
      },
      "file_extension": ".py",
      "mimetype": "text/x-python",
      "name": "python",
      "nbconvert_exporter": "python",
      "pygments_lexer": "ipython3",
      "version": "3.8"
    }
  },
  "nbformat_minor": 4,
  "nbformat": 4,
  "cells": [
    {
      "cell_type": "markdown",
      "source": "<center>\n    <img src=\"https://cf-courses-data.s3.us.cloud-object-storage.appdomain.cloud/IBMDeveloperSkillsNetwork-DS0105EN-SkillsNetwork/labs/Module2/images/SN_web_lightmode.png\" width=\"300\" alt=\"cognitiveclass.ai logo\">\n</center>\n",
      "metadata": {}
    },
    {
      "cell_type": "markdown",
      "source": "#### Add your code below following the instructions given in the course\n",
      "metadata": {}
    },
    {
      "cell_type": "markdown",
      "source": "<h1> My Jupyter Notebook on IBM Watson Studio </h1>",
      "metadata": {}
    },
    {
      "cell_type": "markdown",
      "source": "<b> Martina Tomaníková </b>\n\ndata scientist",
      "metadata": {}
    },
    {
      "cell_type": "markdown",
      "source": "<i> I am interested in data science because it is extremely useful and state-of-the-art science field, helping us understand and utilize data for shaping better future. </i>",
      "metadata": {}
    },
    {
      "cell_type": "markdown",
      "source": "<h3> This code will multiply numbers 3 and 5 </h3>",
      "metadata": {}
    },
    {
      "cell_type": "code",
      "source": "3*5",
      "metadata": {
        "trusted": true
      },
      "execution_count": 1,
      "outputs": [
        {
          "execution_count": 1,
          "output_type": "execute_result",
          "data": {
            "text/plain": "15"
          },
          "metadata": {}
        }
      ]
    },
    {
      "cell_type": "markdown",
      "source": "<ul>\n  <li>Car</li>\n  <li>Ship</li>\n  <li>Train</li>\n</ul>\n\n<img src=\"https://www.shutterstock.com/image-photo/global-transportation-airplane-ship-cars-260nw-1146588500.jpg\">\n\n|Type|Count|\n|-----|----|\n|car|3|\n|ship|2|\n|train|1|",
      "metadata": {}
    }
  ]
}